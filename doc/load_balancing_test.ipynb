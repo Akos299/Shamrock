{
    "cells": [
        {
            "cell_type": "code",
            "execution_count": null,
            "metadata": {},
            "outputs": [],
            "source": [
                "%matplotlib inline\n",
                "%reset -f\n",
                "import matplotlib.pyplot as plt\n",
                "import numpy as np\n",
                "import random\n",
                "from dataclasses import dataclass"
            ]
        },
        {
            "cell_type": "code",
            "execution_count": null,
            "metadata": {},
            "outputs": [],
            "source": [
                "@dataclass\n",
                "class Patch:\n",
                "    id : int\n",
                "    data_count : int\n",
                "    owner_node : int\n",
                "    _1d_pos : float"
            ]
        },
        {
            "cell_type": "code",
            "execution_count": null,
            "metadata": {},
            "outputs": [],
            "source": [
                "def sort_patch_list_in_node(world_size,ptch_list):\n",
                "    ptch_lst_node = [[] for i in range(world_size)]\n",
                "\n",
                "    for i in ptch_list:\n",
                "        ptch_lst_node[i.owner_node].append(i)\n",
                "    \n",
                "    return ptch_lst_node\n",
                "\n",
                "def sort_patch_list_datacount(world_size,ptch_list):\n",
                "    ptch_lst_node = [[] for i in range(world_size)]\n",
                "\n",
                "    for i in ptch_list:\n",
                "        ptch_lst_node[i.owner_node].append(i.data_count)\n",
                "    \n",
                "    return ptch_lst_node\n",
                "\n",
                "def fill_with_0(world_size,ptch_lst_node):\n",
                "    ptch_lst_node_filled = ptch_lst_node.copy()\n",
                "\n",
                "    lens = [len(i) for i in ptch_lst_node_filled]\n",
                "    mx = max(lens)\n",
                "\n",
                "    for i in ptch_lst_node_filled:\n",
                "        while len(i) < mx:\n",
                "            i.append(0)\n",
                "        \n",
                "    return ptch_lst_node_filled"
            ]
        },
        {
            "cell_type": "code",
            "execution_count": null,
            "metadata": {},
            "outputs": [],
            "source": [
                "def plot_patch_list(world_size,ptch_list):\n",
                "\n",
                "    bar_lst = [[ptch_list[j][i] for j in range(world_size)] for i in range(len(ptch_list[0]))]\n",
                "\n",
                "    #print(bar_lst)\n",
                "\n",
                "    cummul = np.array([0 for j in range(world_size)])\n",
                "\n",
                "    for i in bar_lst:\n",
                "\n",
                "        plt.bar(range(len(i)), i, bottom=cummul)\n",
                "\n",
                "        cummul += np.array(i)\n",
                "\n",
                "    plt.xlabel(\"nodes id\")\n",
                "    plt.ylabel(\"load\")\n",
                "    \n",
                "    plt.show()\n",
                "    "
            ]
        },
        {
            "cell_type": "code",
            "execution_count": null,
            "metadata": {},
            "outputs": [],
            "source": [
                "def balance_load(world_size,ptch_list):\n",
                "\n",
                "    patch_list = ptch_list.copy()\n",
                "\n",
                "    target_datacnt = sum([i.data_count for i in patch_list])/world_size\n",
                "    #print(\"target datacnt :\",target_datacnt)\n",
                "\n",
                "    new_patch_list = []\n",
                "\n",
                "    current_dtcnt = 0 \n",
                "    current_node = 0\n",
                "\n",
                "    for i in patch_list:\n",
                "        a = i\n",
                "        a.owner_node = current_node\n",
                "        new_patch_list.append(a)\n",
                "\n",
                "        current_dtcnt += i.data_count\n",
                "        \n",
                "        if(current_dtcnt > (current_node+1)*target_datacnt):\n",
                "            current_node += 1\n",
                "            \n",
                "        \n",
                "    \n",
                "\n",
                "    return new_patch_list"
            ]
        },
        {
            "cell_type": "code",
            "execution_count": null,
            "metadata": {},
            "outputs": [],
            "source": [
                "def gen_patch_list(world_size,data_count_max,num):\n",
                "    return [Patch(\n",
                "        id = i,\n",
                "        owner_node = random.randint(0,world_size-1),\n",
                "        data_count = random.randint(1,data_count_max),\n",
                "        _1d_pos = i\n",
                "        ) for i in range(num)]"
            ]
        },
        {
            "cell_type": "code",
            "execution_count": null,
            "metadata": {},
            "outputs": [],
            "source": [
                "def compare_distrib(init,final):\n",
                "    curve_init  = np.sum(init  ,axis=1)\n",
                "    curve_final = np.sum(final ,axis=1)\n",
                "\n",
                "    return np.mean(curve_init),np.std(curve_init),np.mean(curve_final),np.std(curve_final)"
            ]
        },
        {
            "cell_type": "code",
            "execution_count": null,
            "metadata": {},
            "outputs": [],
            "source": [
                "def metric_load_balancing(world_size,load_curve):\n",
                "\n",
                "    total_load = np.sum(load_curve)\n",
                "\n",
                "    t_calc_opti = total_load / world_size\n",
                "\n",
                "    t_calc_real = np.max(load_curve)\n",
                "\n",
                "    #print(t_calc_opti/t_calc_real)\n",
                "\n",
                "    return t_calc_opti/t_calc_real"
            ]
        },
        {
            "cell_type": "code",
            "execution_count": null,
            "metadata": {},
            "outputs": [],
            "source": [
                "def get_stddev_sample(world_size,data_count_max,patch_cnt):\n",
                "    patch_list = gen_patch_list(world_size,4,patch_cnt)\n",
                "    final_bar_plot = fill_with_0(world_size,sort_patch_list_datacount(world_size,balance_load(world_size,patch_list)))\n",
                "    \n",
                "    load_curve = np.sum(final_bar_plot ,axis=1)\n",
                "\n",
                "    metric_lb = metric_load_balancing(world_size,load_curve)\n",
                "\n",
                "    return metric_lb\n",
                "\n",
                "def get_stddev_map(data_count_max,world_size_arr,patch_cnt_arr,sample):\n",
                "\n",
                "    map = np.array([[0. for patch_cnt in patch_cnt_arr] for world_size in world_size_arr])\n",
                "\n",
                "    for i in range(sample):\n",
                "        map += np.array([[get_stddev_sample(world_size,data_count_max,patch_cnt) for patch_cnt in patch_cnt_arr] for world_size in world_size_arr]) / sample\n",
                "    \n",
                "    #map = np.array([[get_stddev_sample(world_size,data_count_max,patch_cnt) for patch_cnt in patch_cnt_arr] for world_size in world_size_arr])\n",
                "\n",
                "    return map\n",
                "\n",
                "\n"
            ]
        },
        {
            "cell_type": "code",
            "execution_count": null,
            "metadata": {},
            "outputs": [],
            "source": [
                "#will show the initial distribution of patchs on the nodes\n",
                "\n",
                "#print(patch_list)\n",
                "#print(sort_patch_list_datacount(patch_list))\n",
                "#print(fill_with_0(sort_patch_list_datacount(patch_list)))\n",
                "world_size = 100\n",
                "patch_list = gen_patch_list(world_size,4,1000)\n",
                "\n",
                "initial_bar_plot = fill_with_0(world_size,sort_patch_list_datacount(world_size,patch_list))"
            ]
        },
        {
            "cell_type": "code",
            "execution_count": null,
            "metadata": {},
            "outputs": [],
            "source": [
                "final_bar_plot = fill_with_0(world_size,sort_patch_list_datacount(world_size,balance_load(world_size,patch_list)))"
            ]
        },
        {
            "cell_type": "code",
            "execution_count": null,
            "metadata": {},
            "outputs": [],
            "source": [
                "load_curve = np.sum(final_bar_plot ,axis=1)"
            ]
        },
        {
            "cell_type": "code",
            "execution_count": null,
            "metadata": {},
            "outputs": [],
            "source": [
                "plot_patch_list(world_size,initial_bar_plot)"
            ]
        },
        {
            "cell_type": "code",
            "execution_count": null,
            "metadata": {},
            "outputs": [],
            "source": [
                "plot_patch_list(world_size,final_bar_plot)"
            ]
        },
        {
            "cell_type": "code",
            "execution_count": null,
            "metadata": {},
            "outputs": [],
            "source": [
                "print(compare_distrib(initial_bar_plot,final_bar_plot))\n",
                "print(metric_load_balancing(world_size,load_curve))"
            ]
        },
        {
            "cell_type": "code",
            "execution_count": null,
            "metadata": {},
            "outputs": [],
            "source": [
                "world_size_arr = [i for i in range(2,100,1)]\n",
                "patch_cnt_arr  = [i for i in range(2,1000,10)]\n",
                "\n",
                "map = get_stddev_map(4\n",
                "        ,world_size_arr,\n",
                "        patch_cnt_arr,1)\n"
            ]
        },
        {
            "cell_type": "code",
            "execution_count": null,
            "metadata": {},
            "outputs": [],
            "source": [
                "def fmt(x):\n",
                "    s = f\"{x:.2f}\"\n",
                "    return rf\"   {s}   \" if plt.rcParams[\"text.usetex\"] else f\"  {s}   \"\n",
                "\n",
                "\n",
                "\n",
                "plt.imshow(map,\n",
                "    extent = (min(patch_cnt_arr),max(patch_cnt_arr),min(world_size_arr),max(world_size_arr)),\n",
                "    aspect = \"auto\",\n",
                "    cmap = \"gist_ncar\", \n",
                "    vmin=0, \n",
                "    vmax=1)\n",
                "\n",
                "plt.colorbar()\n",
                "\n",
                "levels = [0.5,0.75,0.9,0.95,0.99]\n",
                "\n",
                "CS = plt.contour(map,levels,\n",
                "    extent = (min(patch_cnt_arr),max(patch_cnt_arr),min(world_size_arr),max(world_size_arr)),\n",
                "    origin='upper', colors='k'\n",
                "    )\n",
                "\n",
                "plt.clabel(CS, CS.levels, inline=True, fmt=fmt, fontsize=10)\n",
                "\n",
                "\n",
                "plt.xlabel(\"patch count\")\n",
                "plt.ylabel(\"world size\")"
            ]
        }
    ],
    "metadata": {
        "interpreter": {
            "hash": "e7370f93d1d0cde622a1f8e1c04877d8463912d04d973331ad4851f04de6915a"
        },
        "kernelspec": {
            "display_name": "Python 3.9.9 64-bit",
            "name": "python3"
        },
        "language_info": {
            "codemirror_mode": {
                "name": "ipython",
                "version": 3
            },
            "file_extension": ".py",
            "mimetype": "text/x-python",
            "name": "python",
            "nbconvert_exporter": "python",
            "pygments_lexer": "ipython3",
            "version": "3.9.9"
        },
        "orig_nbformat": 4
    },
    "nbformat": 4,
    "nbformat_minor": 2
}
